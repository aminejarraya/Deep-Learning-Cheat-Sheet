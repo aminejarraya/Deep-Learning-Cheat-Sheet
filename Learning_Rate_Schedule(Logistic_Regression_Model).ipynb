{
  "nbformat": 4,
  "nbformat_minor": 0,
  "metadata": {
    "colab": {
      "name": "Learning Rate Schedule(Logistic Regression Model).ipynb",
      "provenance": [],
      "collapsed_sections": [],
      "authorship_tag": "ABX9TyMDu3vbn3okl2d5gS1RvluD",
      "include_colab_link": true
    },
    "kernelspec": {
      "name": "python3",
      "display_name": "Python 3"
    }
  },
  "cells": [
    {
      "cell_type": "markdown",
      "metadata": {
        "id": "view-in-github",
        "colab_type": "text"
      },
      "source": [
        "<a href=\"https://colab.research.google.com/github/aminejarraya/Deep-Learning-Cheat-Sheet/blob/main/Learning_Rate_Schedule(Logistic_Regression_Model).ipynb\" target=\"_parent\"><img src=\"https://colab.research.google.com/assets/colab-badge.svg\" alt=\"Open In Colab\"/></a>"
      ]
    },
    {
      "cell_type": "code",
      "metadata": {
        "id": "wZObWz-l7JsJ"
      },
      "source": [
        "from keras import backend as K\n",
        "import pandas as pd\n",
        "import tensorflow as tf\n",
        "import matplotlib.pyplot as plt\n",
        "dflist = []\n",
        "learning_rate = [0.01, 0.05, 0.1, 0.5]\n",
        "for lr in learning_rate:\n",
        "  K.clear_session()\n",
        "\n",
        "  model = tf.keras.models.Sequential()\n",
        "  model.add(tf.keras.layers.Dense(1, input_shape=(4,), activation='sigmoid'))\n",
        "  model.compile(loss='binary_crossentropy', optimizer=tf.keras.optimizers.SGD(learning_rate=lr), metrics=['acc'])\n",
        "  h = model.fit(X_train, y_train, batch_size=16, verbose=0)\n",
        "\n",
        "  dflist.append(pd.DataFrame(h.history, index=h.epoch))\n",
        "\n",
        "historydf = pd.concat(dflist, axis=1)\n",
        "metrics_reported = dflist[0].columns\n",
        "idx = pd.MultiIndex.from_product([learning_rate, metrics_reported],\n",
        "                                 names=['learning_rate', 'metric'])\n",
        "historydf.columns = idx\n",
        "\n",
        "ax = plt.subplot(211)\n",
        "historydf.xs('loss', axis=1, level='metric').plot(ylim=(0,1), ax=ax)\n",
        "plt.title(\"Loss\")\n",
        "\n",
        "ax = plt.subplot(211)\n",
        "historydf.xs('acc', axis=1, level='metric').plot(ylim=(0,1), ax=ax)\n",
        "plt.title(\"Accuracy\")\n",
        "plt.title(\"Epochs\")\n",
        "\n",
        "plt.tight_layout()"
      ],
      "execution_count": null,
      "outputs": []
    }
  ]
}