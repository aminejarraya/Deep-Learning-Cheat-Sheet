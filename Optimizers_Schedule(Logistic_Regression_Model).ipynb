{
  "nbformat": 4,
  "nbformat_minor": 0,
  "metadata": {
    "colab": {
      "name": "Optimizers Schedule(Logistic Regression Model).ipynb",
      "provenance": [],
      "authorship_tag": "ABX9TyMdyP7ITvKRI68tbWLbjB/l",
      "include_colab_link": true
    },
    "kernelspec": {
      "name": "python3",
      "display_name": "Python 3"
    }
  },
  "cells": [
    {
      "cell_type": "markdown",
      "metadata": {
        "id": "view-in-github",
        "colab_type": "text"
      },
      "source": [
        "<a href=\"https://colab.research.google.com/github/aminejarraya/Deep-Learning-Cheat-Sheet/blob/main/Optimizers_Schedule(Logistic_Regression_Model).ipynb\" target=\"_parent\"><img src=\"https://colab.research.google.com/assets/colab-badge.svg\" alt=\"Open In Colab\"/></a>"
      ]
    },
    {
      "cell_type": "code",
      "metadata": {
        "id": "vW5zwUFjC3Fm"
      },
      "source": [
        "from keras.optimizers import Adam, Adagrad, RMSprop, SGD\n",
        "from keras import backend as K\n",
        "import pandas as pd\n",
        "import tensorflow as tf\n",
        "import matplotlib.pyplot as plt\n",
        "dflist = []\n",
        "optim = ['SGD(lr=0.0001)',\n",
        "                 'SGD(lr=0.0001, momentum=0.3)',\n",
        "                 'SGD(lr=0.0001, momentum=0.3, nesterov=True)',\n",
        "                 'Adam(lr=0.0001)',\n",
        "                 'Adagrad(lr=0.0001)',\n",
        "                 'RMSprop(lr=0.0001)']\n",
        "for opt_names in optim:\n",
        "  K.clear_session()\n",
        "\n",
        "  model = tf.keras.models.Sequential()\n",
        "  model.add(tf.keras.layers.Dense(1, input_shape=(4,), activation='sigmoid'))\n",
        "  model.compile(loss='binary_crossentropy', optimizer=eval(opt_names), metrics=['acc'])\n",
        "  h = model.fit(X_train, y_train, batch_size=16, verbose=0)\n",
        "\n",
        "  dflist.append(pd.DataFrame(h.history, index=h.epoch))\n",
        "\n",
        "historydf = pd.concat(dflist, axis=1)\n",
        "metrics_reported = dflist[0].columns\n",
        "idx = pd.MultiIndex.from_product([optim, metrics_reported],\n",
        "                                 names=['Optimizers', 'metric'])\n",
        "historydf.columns = idx\n",
        "\n",
        "ax = plt.subplot(211)\n",
        "historydf.xs('loss', axis=1, level='metric').plot(ylim=(0,1), ax=ax)\n",
        "plt.title(\"Loss\")\n",
        "\n",
        "ax = plt.subplot(211)\n",
        "historydf.xs('acc', axis=1, level='metric').plot(ylim=(0,1), ax=ax)\n",
        "plt.title(\"Accuracy\")\n",
        "plt.title(\"Epochs\")\n",
        "\n",
        "plt.tight_layout()"
      ],
      "execution_count": null,
      "outputs": []
    }
  ]
}