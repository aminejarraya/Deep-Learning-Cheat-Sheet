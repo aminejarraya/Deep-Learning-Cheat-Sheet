{
  "nbformat": 4,
  "nbformat_minor": 0,
  "metadata": {
    "colab": {
      "name": "Change Column index.ipynb",
      "provenance": [],
      "collapsed_sections": [],
      "authorship_tag": "ABX9TyPyqWtBFhSyDB6PMk4L/AQD",
      "include_colab_link": true
    },
    "kernelspec": {
      "name": "python3",
      "display_name": "Python 3"
    }
  },
  "cells": [
    {
      "cell_type": "markdown",
      "metadata": {
        "id": "view-in-github",
        "colab_type": "text"
      },
      "source": [
        "<a href=\"https://colab.research.google.com/github/aminejarraya/Deep-Learning-Cheat-Sheet/blob/main/Change_Column_index.ipynb\" target=\"_parent\"><img src=\"https://colab.research.google.com/assets/colab-badge.svg\" alt=\"Open In Colab\"/></a>"
      ]
    },
    {
      "cell_type": "code",
      "metadata": {
        "id": "maNbQ_GD9ucn"
      },
      "source": [
        "target_names = data['species'].unique()\n",
        "\n",
        "target_dict = {n:i for i, n in enumerate(target_names)}\n",
        "target_dict\n",
        "y = df['species'].map(target_dict)\n"
      ],
      "execution_count": null,
      "outputs": []
    }
  ]
}